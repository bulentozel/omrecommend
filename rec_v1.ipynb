{
 "cells": [
  {
   "cell_type": "markdown",
   "metadata": {},
   "source": [
    "## Personalized Recommendation Model\n",
    "\n",
    "### Interfaces: DataIn\n",
    "- CRM Data Connection\n",
    "- Twitter Crawler\n",
    "- User interaction data\n",
    "\n",
    "### Interfaces: DataOut\n",
    "\n",
    "#### API Services\n",
    "- What to work/learn/observe\n",
    "- Whom to follow\n",
    "- Partnership: With whom on what\n",
    "\n",
    "### Data Objects\n",
    "- SkillComplementarityModel\n",
    "    - training/forming\n",
    "    - given two nodes returning complementarity score\n",
    "    - given a node returns the list of complementing nodes\n",
    "- ExpertiseSeekingNet\n",
    "- PotentialSocialNet\n",
    "- UserBehavioralModel\n",
    "\n",
    "\n",
    "### Backend Incremental Training Processes\n",
    "- Update complementarity model from the profiles/projects.\n",
    "- Update expertise net in terms of similarity and difference scores\n",
    "- Update social similarity from localilty and twitter "
   ]
  },
  {
   "cell_type": "code",
   "execution_count": 1,
   "metadata": {
    "collapsed": true
   },
   "outputs": [],
   "source": [
    "import pickle\n",
    "import pprint\n",
    "pp = pprint.PrettyPrinter(indent=0)"
   ]
  },
  {
   "cell_type": "code",
   "execution_count": 2,
   "metadata": {
    "collapsed": true
   },
   "outputs": [],
   "source": [
    "def load_demographic_profile(fname = './data/crm_profile.pickle'):\n",
    "    with open(fname, 'rb') as f:\n",
    "        pcrm = pickle.load(f)\n",
    "    return pcrm\n",
    "\n",
    "def load_expertise_profile(fname = './data/crm_profile.pickle'):\n",
    "    with open(fname, 'rb') as f:\n",
    "        pcrm = pickle.load(f)    \n",
    "    skills = {k:set(v['Tags']) for k,v in pcrm.items() if v['Tags']}\n",
    "    return skills\n",
    "\n",
    "def load_skill_cooccurance(fname = './data/skill_occurance.pickle'):\n",
    "    with open(fname, 'rb') as f:\n",
    "        projects = pickle.load(f)\n",
    "    return projects\n",
    "\n",
    "def load_social_media_profile(fname = './data/twitter_profile.pickle'):\n",
    "    with open(fname, 'rb') as f:\n",
    "        ptwitter = pickle.load(f)\n",
    "    return ptwitter\n",
    "\n",
    "def load_behavioral_profile(fname = None): pass\n",
    "\n",
    "def load_spirometer_profile(fname = None): pass\n",
    "\n",
    "def load_values_profile(fname = None): pass\n",
    "\n",
    "def get_a_dict_item(adict):\n",
    "    k,v = adict.popitem()\n",
    "    adict[k] = v\n",
    "    return {k:v}"
   ]
  },
  {
   "cell_type": "code",
   "execution_count": 3,
   "metadata": {},
   "outputs": [],
   "source": [
    "def form_potential_expertise_net(expertise_profiles, min_sim = 0.3, min_dif = 0.1):\n",
    "    TsimK = min_sim\n",
    "    TdifK = min_dif\n",
    "    ExpertiseNet = dict()\n",
    "    count = 0\n",
    "    sims = 0\n",
    "    for a in expertise_profiles.keys():\n",
    "        for b in expertise_profiles.keys():\n",
    "            count += 1\n",
    "            key = (a,b)\n",
    "            if a == b: continue\n",
    "            if (b,a) in ExpertiseNet.keys(): continue\n",
    "            sa = expertise_profiles[a]\n",
    "            sb = expertise_profiles[b]\n",
    "            nsa = len(sa)\n",
    "            nsb = len(sb)\n",
    "            dAB = len(sa - sb)\n",
    "            dBA = len(sb - sa)\n",
    "            AB = sa.intersection(sb)\n",
    "            nAB = len(AB)\n",
    "            if nAB > 0:\n",
    "                simAB = nAB / (nsa * 1.0) if nsa != 0 else 0\n",
    "                simBA = nAB / (nsb * 1.0) if nsb != 0 else 0\n",
    "                difBA = dBA / (nsa * 1.0) if nsa != 0 else 0\n",
    "                difAB = dAB / (nsb * 1.0) if nsb != 0 else 0\n",
    "                if simAB  < TsimK: continue\n",
    "                if simBA  < TsimK: continue\n",
    "                if difAB  < TdifK: continue\n",
    "                if difBA  < TdifK: continue\n",
    "                ExpertiseNet[key] = {'KsimAB': simAB,\n",
    "                                     'KsimBA': simBA,\n",
    "                                     'KdifAB': difAB,\n",
    "                                     'KdifBA': difBA\n",
    "                                    }\n",
    "                sims += 1\n",
    "    print('Number of links: {}, Network density: {}'.format(sims, sims/count))\n",
    "    return ExpertiseNet\n",
    "\n",
    "    "
   ]
  },
  {
   "cell_type": "code",
   "execution_count": 4,
   "metadata": {
    "collapsed": true
   },
   "outputs": [],
   "source": [
    "def form_potential_social_net(social_profiles, min_sim = 0.1, min_dif = 0.3):\n",
    "    TsimS = min_sim\n",
    "    TdifS = min_dif\n",
    "    OMNetData = social_profiles\n",
    "    count = 0\n",
    "    sims = 0\n",
    "    SocialNet = dict()\n",
    "    for from_id in OMNetData.keys():\n",
    "        mutuals = list()\n",
    "        outL = list()\n",
    "        inL = list()\n",
    "        potentials = list()\n",
    "        for to_id in OMNetData.keys():\n",
    "            if from_id == to_id: continue\n",
    "            count += 1\n",
    "            ifrom_id = int(OMNetData[from_id]['TwitterId'])\n",
    "            ito_id = int(OMNetData[to_id]['TwitterId'])\n",
    "            afriends = OMNetData[from_id]['flist']\n",
    "            bfriends = OMNetData[to_id]['flist']\n",
    "            common = afriends.intersection(bfriends) \n",
    "            ab = ito_id in afriends \n",
    "            ba = ifrom_id in bfriends   \n",
    "            nA = len(afriends)\n",
    "            nB = len(bfriends)\n",
    "            nC = len(common) * 1.0\n",
    "            sim = nC / nA if nA > 0 else 0\n",
    "            dif = (nB - nC) / nA if nA > 0 else 100\n",
    "\n",
    "            #Reciprocities\n",
    "            if ab and ba: mutuals.append(to_id)\n",
    "            elif ab: outL.append(to_id)\n",
    "            elif ba: inL.append(to_id)\n",
    "            else: pass\n",
    "\n",
    "            if sim < TsimS: continue\n",
    "            if dif < TdifS: continue\n",
    "            potentials.append({'id': to_id, 'sim': sim, 'dif': dif})\n",
    "            sims += 1\n",
    "\n",
    "        SocialNet[from_id] = {\n",
    "            'mutuals': mutuals,\n",
    "            'in': inL,\n",
    "            'out': outL,\n",
    "            'potentials': potentials\n",
    "        }\n",
    "    print('Number of links: {}, Network density: {}'.format(sims, sims/count))\n",
    "    return SocialNet"
   ]
  },
  {
   "cell_type": "code",
   "execution_count": 5,
   "metadata": {
    "collapsed": true
   },
   "outputs": [],
   "source": [
    "def form_cooccurances(attrs):\n",
    "    alltags = set()\n",
    "    for k in attrs:\n",
    "        alltags = alltags.union(set(k))\n",
    "    occurance = dict()\n",
    "    for t in alltags:\n",
    "        occurance[t] = {'f':0,'co':{}}\n",
    "    for kset in attrs:\n",
    "        for k in kset:\n",
    "            occurance[k]['f'] += 1\n",
    "            for t in kset:\n",
    "                if t == k: continue\n",
    "                if t in occurance[k]['co'].keys():\n",
    "                    occurance[k]['co'][t] += 1\n",
    "                else:\n",
    "                    occurance[k]['co'][t] = 1\n",
    "    return occurance\n",
    "\n",
    "def get_complementarity_score(a,b,occurances):\n",
    "    \"\"\" To what extend a complements b. \n",
    "    \n",
    "    For instance if a happens to occur/needed all the time b requested,\n",
    "    then this would lead to a score of 1.\n",
    "    \"\"\"\n",
    "    if a not in occurances.keys(): return(-1)\n",
    "    if b not in occurances.keys(): return(-1)\n",
    "    fb = occurances[b]['f']\n",
    "    if b not in occurances[a]['co'].keys(): return(0)\n",
    "    cab = occurances[a]['co'][b]\n",
    "    if not fb: return(0)\n",
    "    return (1.0 * cab / fb)\n",
    "\n",
    "def recommend_topic(pA,pB,occurances):\n",
    "    commonset = set(pA).intersection(set(pB))\n",
    "    unionset =  set(pA).union(set(pB))\n",
    "    disjointset = unionset - commonset\n",
    "    \n",
    "    complementarity = dict()\n",
    "    \n",
    "    for d in disjointset:\n",
    "        complementarity[d] = 0\n",
    "        for c in commonset:\n",
    "            complementarity[d] += get_complementarity_score(d,c,occurances)\n",
    "    compplementarity = sorted(complementarity.items(), key=lambda x: x[1], reverse=True)\n",
    "    return({'common': commonset, 'complement': compplementarity})"
   ]
  },
  {
   "cell_type": "markdown",
   "metadata": {},
   "source": [
    "### Load CRM profile"
   ]
  },
  {
   "cell_type": "code",
   "execution_count": 6,
   "metadata": {},
   "outputs": [
    {
     "name": "stdout",
     "output_type": "stream",
     "text": [
      "{'155499906': {'Gender': 'F', 'Type': 'P', 'Location': 'SP', 'Twitter': 'EndeFEng', 'Tags': {'innovation', 'engineering', 'energy', 'industry40', 'entrepreneur'}}}\n"
     ]
    }
   ],
   "source": [
    "CRM_PROFILES = load_demographic_profile(fname = './data/crm_profile.pickle')\n",
    "len(CRM_PROFILES)\n",
    "print(get_a_dict_item(CRM_PROFILES))"
   ]
  },
  {
   "cell_type": "markdown",
   "metadata": {},
   "source": [
    "### Load expertise profile"
   ]
  },
  {
   "cell_type": "code",
   "execution_count": 7,
   "metadata": {},
   "outputs": [
    {
     "name": "stdout",
     "output_type": "stream",
     "text": [
      "{'155499906': {'innovation', 'engineering', 'energy', 'industry40', 'entrepreneur'}}\n"
     ]
    }
   ],
   "source": [
    "EXPERTISE_PROFILES = load_expertise_profile(fname = './data/crm_profile.pickle')\n",
    "len(EXPERTISE_PROFILES)\n",
    "print(get_a_dict_item(EXPERTISE_PROFILES))"
   ]
  },
  {
   "cell_type": "markdown",
   "metadata": {},
   "source": [
    "### Load Twitter connections"
   ]
  },
  {
   "cell_type": "code",
   "execution_count": 8,
   "metadata": {},
   "outputs": [
    {
     "name": "stdout",
     "output_type": "stream",
     "text": [
      "{'155499906': {'TwitterName': 'EndeFEng', 'nf': 262, 'flist': {804379435487162368, 830022487954092032, 740123094480781312, 757942117817782273, 800740677449490433, 716738616354070528, 755365692787032065, 793898688238198784, 766538603602120705, 715555772311150592, 763325727525732352, 274958853, 1462596110, 1055591952, 1438617104, 90877970, 259823635, 1856644122, 275608091, 4733045788, 453975069, 1363786782, 582066208, 1246637089, 261177890, 182320162, 150963748, 526224420, 2570518567, 250523687, 4860355115, 372724268, 793673772, 279153198, 257460272, 2878792753, 292966964, 448738356, 1097571896, 125534265, 19923515, 3104117308, 414819902, 1891878464, 1108940864, 4491979335, 223428680, 2566593608, 296152650, 1409910859, 1897047114, 366500942, 193648207, 145681999, 533175894, 247237207, 458496089, 583086682, 95951964, 500945500, 1074208862, 96968287, 1152162912, 284092512, 733091426, 1336766556, 15764581, 2531465830, 806249580, 156224108, 245796974, 14786159, 1030213232, 460954733, 1344809587, 987388022, 182593144, 3266911352, 3295751802, 1665404540, 269884540, 424165502, 2375236226, 786532484, 2788747913, 2194124426, 306138764, 1175028366, 134037648, 11162772, 538150548, 284951700, 17824922, 233812635, 190570652, 2165052061, 40689307, 2433353377, 469496483, 273087146, 330860720, 3936788657, 211818673, 46668976, 242417845, 258626744, 141764283, 375232196, 267681990, 2678076103, 4155595463, 132826828, 424163023, 249616596, 3159153365, 2295881948, 4362598109, 2303394013, 123951839, 858196190, 1565922529, 2291076331, 419498220, 636935916, 2181801198, 3317084915, 1327392500, 20593909, 3378477304, 1327379192, 1117197564, 1489828094, 700987395781615616, 710229793850073088, 757959147438694400, 762950455878180864, 271447301, 110825222, 1425749767, 341115145, 3334565135, 4258992912, 258103058, 702904595, 485617433, 163403547, 17709344, 614254368, 948163364, 245853481, 1427608362, 1415121198, 62463792, 141244210, 1285523252, 4772802869, 2890528054, 4371804983, 3016840503, 110951735, 2194587962, 819057979, 493063481, 101786430, 44964161, 205185860, 255924551, 204810059, 96407380, 121291606, 106769240, 382177625, 732549978, 151465468, 219255133, 148375390, 287581022, 184157539, 84840292, 2296324452, 563701092, 2455322468, 41610601, 92730731, 200150381, 3297659759, 1895098224, 63678320, 84640626, 161974127, 447929205, 1314764664, 157981564, 219260286, 1172480894, 185549187, 1327774092, 2842343313, 432719761, 61156243, 1454011284, 343903633, 2172275606, 1602796950, 13298072, 2151434137, 236813201, 117463451, 105125276, 1322643361, 196512674, 21660579, 986859428, 1446907814, 1193640872, 104122281, 267708331, 232606638, 414886320, 267310512, 275461632, 18777523, 1425839540, 2842384821, 485112248, 193660346, 279634875, 4815282621, 389970366, 14662589, 3138747329, 508658626, 2356964292, 29273543, 287789516, 787300813, 2828615118, 1196953039, 575296464, 488802767, 1087129554, 1264361426, 393757140, 4023647189, 61215189, 624520663, 108234197, 340213649, 59386332, 23737308, 1883525089, 503364578, 279599074, 309717991, 2481860587, 301978096, 448288241, 615059960, 200835577, 183216635, 1908167676, 148429310}, 'TwitterId': '2515234999'}}\n"
     ]
    }
   ],
   "source": [
    "TWITTER_PROFILES = load_social_media_profile(fname = './data/twitter_profile.pickle')\n",
    "len(TWITTER_PROFILES)\n",
    "print(get_a_dict_item(TWITTER_PROFILES))"
   ]
  },
  {
   "cell_type": "markdown",
   "metadata": {},
   "source": [
    "### Load skills co-occurances data"
   ]
  },
  {
   "cell_type": "code",
   "execution_count": 9,
   "metadata": {},
   "outputs": [
    {
     "data": {
      "text/plain": [
       "[{'design', 'innovation', 'social'},\n",
       " {'ciao', 'js', 'python'},\n",
       " {'design', 'humanitarian', 'industrial', 'innovation', 'supplychain'}]"
      ]
     },
     "execution_count": 9,
     "metadata": {},
     "output_type": "execute_result"
    }
   ],
   "source": [
    "SKILLS = load_skill_cooccurance()\n",
    "SKILLS[0:3]"
   ]
  },
  {
   "cell_type": "code",
   "execution_count": 10,
   "metadata": {
    "collapsed": true
   },
   "outputs": [],
   "source": [
    "COOCURANCE_MATRIX = form_cooccurances(SKILLS)"
   ]
  },
  {
   "cell_type": "markdown",
   "metadata": {},
   "source": [
    "### Form skill complementarity model\n",
    "For the time being it is a skill-skill complemenatrity based on their co-occurances in maker projects."
   ]
  },
  {
   "cell_type": "code",
   "execution_count": 11,
   "metadata": {},
   "outputs": [
    {
     "name": "stdout",
     "output_type": "stream",
     "text": [
      "Help on function get_complementarity_score in module __main__:\n",
      "\n",
      "get_complementarity_score(a, b, occurances)\n",
      "    To what extend a complements b. \n",
      "    \n",
      "    For instance if a happens to occur/needed all the time b requested,\n",
      "    then this would lead to a score of 1.\n",
      "\n"
     ]
    }
   ],
   "source": [
    "help(get_complementarity_score)"
   ]
  },
  {
   "cell_type": "code",
   "execution_count": 12,
   "metadata": {},
   "outputs": [
    {
     "name": "stdout",
     "output_type": "stream",
     "text": [
      "0.2857142857142857\n",
      "1.0\n"
     ]
    }
   ],
   "source": [
    "skill_a = 'js'\n",
    "skill_b = 'python'\n",
    "print(get_complementarity_score(skill_a,skill_b,COOCURANCE_MATRIX))\n",
    "print(get_complementarity_score(skill_b,skill_a,COOCURANCE_MATRIX))"
   ]
  },
  {
   "cell_type": "code",
   "execution_count": 13,
   "metadata": {},
   "outputs": [
    {
     "name": "stdout",
     "output_type": "stream",
     "text": [
      "0.14285714285714285\n",
      "0.02197802197802198\n"
     ]
    }
   ],
   "source": [
    "skill_a = 'design'\n",
    "skill_b = 'social'\n",
    "print(get_complementarity_score(skill_a,skill_b,COOCURANCE_MATRIX))\n",
    "print(get_complementarity_score(skill_b,skill_a,COOCURANCE_MATRIX))"
   ]
  },
  {
   "cell_type": "markdown",
   "metadata": {},
   "source": [
    "### Choose makers"
   ]
  },
  {
   "cell_type": "code",
   "execution_count": 14,
   "metadata": {
    "collapsed": true
   },
   "outputs": [],
   "source": [
    "maker_a = '140411415'\n",
    "maker_b = '155499906'"
   ]
  },
  {
   "cell_type": "code",
   "execution_count": 15,
   "metadata": {},
   "outputs": [
    {
     "name": "stdout",
     "output_type": "stream",
     "text": [
      "{'Gender': 'F',\n",
      "'Location': 'IT',\n",
      "'Tags': {'collaborativeeconomy',\n",
      "        'innovation',\n",
      "        'openmaker team member',\n",
      "        'socialinnovation'},\n",
      "'Twitter': 'LaMartelloni',\n",
      "'Type': 'P'}\n"
     ]
    }
   ],
   "source": [
    "pp.pprint(CRM_PROFILES[maker_a])"
   ]
  },
  {
   "cell_type": "code",
   "execution_count": 16,
   "metadata": {},
   "outputs": [
    {
     "name": "stdout",
     "output_type": "stream",
     "text": [
      "{'Gender': 'F',\n",
      "'Location': 'SP',\n",
      "'Tags': {'innovation', 'engineering', 'energy', 'industry40', 'entrepreneur'},\n",
      "'Twitter': 'EndeFEng',\n",
      "'Type': 'P'}\n"
     ]
    }
   ],
   "source": [
    "pp.pprint(CRM_PROFILES[maker_b])"
   ]
  },
  {
   "cell_type": "code",
   "execution_count": 17,
   "metadata": {
    "collapsed": true
   },
   "outputs": [],
   "source": [
    "expertise_a = EXPERTISE_PROFILES[maker_a]\n",
    "expertise_b = EXPERTISE_PROFILES[maker_b]\n",
    "suggestions = recommend_topic(expertise_a,expertise_b,COOCURANCE_MATRIX)\n",
    "common_interests = suggestions['common']\n",
    "possible_joint_themes = suggestions['complement']"
   ]
  },
  {
   "cell_type": "code",
   "execution_count": 18,
   "metadata": {},
   "outputs": [
    {
     "name": "stdout",
     "output_type": "stream",
     "text": [
      "{'innovation'}\n"
     ]
    }
   ],
   "source": [
    "print(common_interests)"
   ]
  },
  {
   "cell_type": "code",
   "execution_count": 19,
   "metadata": {},
   "outputs": [
    {
     "name": "stdout",
     "output_type": "stream",
     "text": [
      "[('engineering', 0.11724137931034483),\n",
      "('industry40', 0.06896551724137931),\n",
      "('socialinnovation', 0.05517241379310345),\n",
      "('entrepreneur', 0.041379310344827586),\n",
      "('energy', 0.027586206896551724),\n",
      "('openmaker team member', 0.013793103448275862),\n",
      "('collaborativeeconomy', 0.013793103448275862)]\n"
     ]
    }
   ],
   "source": [
    "pp.pprint(possible_joint_themes)"
   ]
  },
  {
   "cell_type": "markdown",
   "metadata": {},
   "source": [
    "### Compute expertise similarities and differences"
   ]
  },
  {
   "cell_type": "code",
   "execution_count": 20,
   "metadata": {},
   "outputs": [
    {
     "name": "stdout",
     "output_type": "stream",
     "text": [
      "Number of links: 3387, Network density: 0.1374092255263905\n"
     ]
    }
   ],
   "source": [
    "PotentialExpertiseNet = form_potential_expertise_net(EXPERTISE_PROFILES, min_sim = 0.2, min_dif = 0.2)"
   ]
  },
  {
   "cell_type": "code",
   "execution_count": 21,
   "metadata": {},
   "outputs": [
    {
     "data": {
      "text/plain": [
       "{'KdifAB': 0.6, 'KdifBA': 1.0, 'KsimAB': 0.25, 'KsimBA': 0.2}"
      ]
     },
     "execution_count": 21,
     "metadata": {},
     "output_type": "execute_result"
    }
   ],
   "source": [
    "PotentialExpertiseNet[(maker_a, maker_b)]"
   ]
  },
  {
   "cell_type": "markdown",
   "metadata": {},
   "source": [
    "### Compute social similarities and differences "
   ]
  },
  {
   "cell_type": "code",
   "execution_count": 22,
   "metadata": {},
   "outputs": [
    {
     "name": "stdout",
     "output_type": "stream",
     "text": [
      "Number of links: 171, Network density: 0.00698187163155316\n"
     ]
    }
   ],
   "source": [
    "PotentialSocialNet = form_potential_social_net(TWITTER_PROFILES, min_sim = 0.2, min_dif = 0.2)"
   ]
  },
  {
   "cell_type": "code",
   "execution_count": 23,
   "metadata": {},
   "outputs": [
    {
     "name": "stdout",
     "output_type": "stream",
     "text": [
      "140411415 155499906\n"
     ]
    }
   ],
   "source": [
    "print(maker_a, maker_b)"
   ]
  },
  {
   "cell_type": "code",
   "execution_count": 24,
   "metadata": {},
   "outputs": [
    {
     "data": {
      "text/plain": [
       "{'in': [],\n",
       " 'mutuals': ['145489262',\n",
       "  '153757086',\n",
       "  '140411756',\n",
       "  '152031440',\n",
       "  '155714799',\n",
       "  '153862027',\n",
       "  '135377966',\n",
       "  '156612789'],\n",
       " 'out': ['154747461',\n",
       "  '152583764',\n",
       "  '156582037',\n",
       "  '152730563',\n",
       "  '153818672',\n",
       "  '153689099',\n",
       "  '157784656'],\n",
       " 'potentials': [{'dif': 2.4761904761904763,\n",
       "   'id': '152583764',\n",
       "   'sim': 0.23015873015873015},\n",
       "  {'dif': 5.476190476190476, 'id': '145489262', 'sim': 0.23809523809523808},\n",
       "  {'dif': 21.841269841269842, 'id': '153818672', 'sim': 0.30158730158730157},\n",
       "  {'dif': 8.134920634920634, 'id': '153757086', 'sim': 0.21428571428571427},\n",
       "  {'dif': 2.9365079365079363, 'id': '140411756', 'sim': 0.5079365079365079},\n",
       "  {'dif': 4.9523809523809526, 'id': '157784656', 'sim': 0.2222222222222222},\n",
       "  {'dif': 2.238095238095238, 'id': '155714799', 'sim': 0.2857142857142857},\n",
       "  {'dif': 12.642857142857142, 'id': '153862027', 'sim': 0.24603174603174602},\n",
       "  {'dif': 2.8095238095238093, 'id': '135377966', 'sim': 0.5476190476190477}]}"
      ]
     },
     "execution_count": 24,
     "metadata": {},
     "output_type": "execute_result"
    }
   ],
   "source": [
    "PotentialSocialNet[maker_a]"
   ]
  },
  {
   "cell_type": "code",
   "execution_count": 25,
   "metadata": {},
   "outputs": [
    {
     "name": "stdout",
     "output_type": "stream",
     "text": [
      "140411415 155499906\n"
     ]
    }
   ],
   "source": [
    "print(maker_a, maker_b)"
   ]
  },
  {
   "cell_type": "code",
   "execution_count": 26,
   "metadata": {},
   "outputs": [
    {
     "data": {
      "text/plain": [
       "{'in': [], 'mutuals': [], 'out': [], 'potentials': []}"
      ]
     },
     "execution_count": 26,
     "metadata": {},
     "output_type": "execute_result"
    }
   ],
   "source": [
    "PotentialSocialNet[maker_b]"
   ]
  },
  {
   "cell_type": "code",
   "execution_count": 27,
   "metadata": {
    "collapsed": true
   },
   "outputs": [],
   "source": [
    "from scipy.stats import gmean "
   ]
  }
 ],
 "metadata": {
  "kernelspec": {
   "display_name": "Python 3",
   "language": "python",
   "name": "python3"
  },
  "language_info": {
   "codemirror_mode": {
    "name": "ipython",
    "version": 3
   },
   "file_extension": ".py",
   "mimetype": "text/x-python",
   "name": "python",
   "nbconvert_exporter": "python",
   "pygments_lexer": "ipython3",
   "version": "3.6.0"
  }
 },
 "nbformat": 4,
 "nbformat_minor": 2
}
