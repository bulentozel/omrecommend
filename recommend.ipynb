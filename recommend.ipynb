{
 "cells": [
  {
   "cell_type": "code",
   "execution_count": null,
   "metadata": {
    "collapsed": true
   },
   "outputs": [],
   "source": [
    "import sys\n",
    "import pickle\n",
    "import pprint\n",
    "pp = pprint.PrettyPrinter(indent=0)\n",
    "\n",
    "import numpy as np\n",
    "from functools import reduce"
   ]
  },
  {
   "cell_type": "markdown",
   "metadata": {},
   "source": [
    "# Local Modules"
   ]
  },
  {
   "cell_type": "markdown",
   "metadata": {},
   "source": [
    "### utilities.py"
   ]
  },
  {
   "cell_type": "code",
   "execution_count": null,
   "metadata": {
    "collapsed": true
   },
   "outputs": [],
   "source": [
    "# utilties.py\n",
    "\n",
    "def load_behavioral_profile(fname = None): pass\n",
    "\n",
    "def load_spirometer_profile(fname = None): pass\n",
    "\n",
    "def load_values_profile(fname = None): pass\n",
    "\n",
    "def load_skill_cooccurance(fname = './data/skill_occurance.pickle'):\n",
    "    with open(fname, 'rb') as f:\n",
    "        projects = pickle.load(f)\n",
    "    return projects\n",
    "\n",
    "def load_social_media_profiles(fname = './data/twitter_profile.pickle'):\n",
    "    with open(fname, 'rb') as f:\n",
    "        ptwitter = pickle.load(f)\n",
    "    return ptwitter\n",
    "\n",
    "def get_attributes(pobj):\n",
    "    \"\"\"Given any python object returns its data attributes.\n",
    "\n",
    "    Args:\n",
    "        pobj (:obj:`Maker`): A python object.\n",
    "\n",
    "    Returns:\n",
    "        (:obj:`list` of :obj:`str`): list of attribute names.\n",
    "\n",
    "    Raises:\n",
    "        TypeError: Raised if an object type without a __dict__ attribute is given.\n",
    "        \n",
    "    \"\"\"\n",
    "\n",
    "    if '__dict__' not in dir(pobj):\n",
    "        raise TypeError('A Python object with attributes is expected.')\n",
    "\n",
    "    attrs = {k:v for k,v in pobj.__dict__.items() if not k.startswith('_')}\n",
    "    return [k for k, v in attrs.items() if type(v) != 'function']\n",
    "\n",
    "\n",
    "def load_member_profiles(fname = './data/crm_profile.pickle'):\n",
    "    \"\"\"The utility loads member profile data.\n",
    "\n",
    "    Args:\n",
    "        pobj (:obj:`pickle`): A serialized python dictionary.\n",
    "\n",
    "    Returns:\n",
    "        (:obj:`dict` of :obj:`dict`): The python dictionary of profiles.\n",
    "            The member id is a key, a profile of the member is the value.\n",
    "        \n",
    "    \"\"\"\n",
    "    with open(fname,'rb') as f:\n",
    "        pcrm = pickle.load(f)\n",
    "    \n",
    "    return pcrm\n",
    "\n",
    "\n",
    "def get_random_item(adict):\n",
    "    \"\"\"The function returns a random item from a dictionary.\n",
    "\n",
    "    Args:\n",
    "        pobj (:obj:`dict`): A python dictionary.\n",
    "\n",
    "    Returns:\n",
    "         None: If the the input is an empty dictionary.\n",
    "        (:obj:`dict`): A random dictionary item in the form {k:v}.\n",
    "        \n",
    "     Raises:\n",
    "        TypeError: Raised if a non `dict` is given.\n",
    "    \n",
    "    \"\"\"\n",
    "    if not isinstance(adict, dict):\n",
    "        raise TypeError('A Python dictionary object is expected.') \n",
    "    N = len(adict)\n",
    "    if N == 0: return\n",
    "    ind = int(np.random.rand() * (N - 1))\n",
    "    k,v = list(adict.items())[ind]\n",
    "    return {k:v}\n",
    "\n",
    "def get_sample(adict, n):\n",
    "    \"\"\"The function returns a number of random items from a dictionary.\n",
    "\n",
    "    Args:\n",
    "        pobj (:obj:`dict`): A python dictionary.\n",
    "        n (:obj:`int`): A number of items.\n",
    "\n",
    "    Returns:\n",
    "         None: If the the input is an empty dictionary.\n",
    "        (:obj:`dict`): A dictionary with item in the form {k:v}.\n",
    "        \n",
    "     Raises:\n",
    "        TypeError: Raised if a non `dict` is given.\n",
    "    \n",
    "    \"\"\"\n",
    "    if not isinstance(adict, dict):\n",
    "        raise TypeError('A Python dictionary object is expected.') \n",
    "    N = len(adict)\n",
    "    if N == 0: return\n",
    "    if n > N: n = N\n",
    "    sample = dict()\n",
    "    while n > 0:\n",
    "        ind = int(np.random.rand() * (N - 1))\n",
    "        k,v = list(adict.items())[ind]\n",
    "        sample[k] = v\n",
    "        n -= 1\n",
    "    return sample\n",
    "\n",
    "def form_network_relations(connections):\n",
    "    \"\"\"Given a list of attribute/connection sets, it returns a co-occurance matrix of the attributes\n",
    "        observed in the sets.\n",
    "    \n",
    "    Note: It should be noted that the diagonal, which would be occurance count is empty and this frequency\n",
    "        info can be accessed by the 'f' key of the matrix/dictionary.\n",
    "  \n",
    "    Args:\n",
    "        pobj (:obj:`list` of :obj:`set` of :obj:`str`): Co-oocurance data.\n",
    "\n",
    "    Returns:\n",
    "        (:obj:`dict`): A dictionary which contains a semantic network data where the keys are the nodes (attributes)\n",
    "        and values are a dictionary which contains the degree and the weighted links of the node.\n",
    "    \"\"\"\n",
    "    attrs = connections\n",
    "    alltags = set()\n",
    "    for k in attrs:\n",
    "        alltags = alltags.union(set(k))\n",
    "        \n",
    "    occurance = dict()\n",
    "    for t in alltags:\n",
    "        occurance[t] = {'f':0,'co':{}}\n",
    "        \n",
    "    for kset in attrs:\n",
    "        for k in kset:\n",
    "            occurance[k]['f'] += 1\n",
    "            for t in kset:\n",
    "                if t == k: continue\n",
    "                if t in occurance[k]['co'].keys():\n",
    "                    occurance[k]['co'][t] += 1\n",
    "                else:\n",
    "                    occurance[k]['co'][t] = 1            \n",
    "    return occurance\n",
    "\n"
   ]
  },
  {
   "cell_type": "code",
   "execution_count": null,
   "metadata": {
    "collapsed": true
   },
   "outputs": [],
   "source": [
    "class SocialGraph(object):\n",
    "    \"\"\"A graph object which represents intracommunity social connections.\n",
    "\n",
    "    Args:\n",
    "        \n",
    "\n",
    "    Attributes:\n",
    "        \n",
    "\n",
    "    \"\"\"\n",
    "\n",
    "    def __init__(self, profiles = None, media = 'Twitter'):\n",
    "        self.nodes = set()\n",
    "        self.connections = {}\n",
    "        self.attributes = {}\n",
    "        self.notmembers = set()\n",
    "        if profiles: self.construct_net(profiles, media)\n",
    "    \n",
    "    def add_isolate(self, noid, ismember = True):\n",
    "        \"\"\"Adds an isolate to the graph. \n",
    "\n",
    "        Args:\n",
    "            noid (:obj:`int`): A unique node id.\n",
    "            ismember (:obj:`bool`): whether the node is a member (default True).\n",
    "            \n",
    "        Returns:\n",
    "            (:obj:`bool`): False if node already exists, otherwise it returns True.\n",
    "            \n",
    "\n",
    "        \"\"\"\n",
    "        if noid in self.nodes: return False\n",
    "        if noid in self.notmembers: return False\n",
    "        if not ismember:\n",
    "            self.notmembers.add(noid)\n",
    "            return True\n",
    "        self.nodes.add(noid)\n",
    "        self.connections.update({noid: {'bi': set(),\n",
    "                                  'in': set(),\n",
    "                                  'out': set(),\n",
    "                                  'ext': set()\n",
    "                                 }\n",
    "                                })\n",
    "        return True\n",
    "    \n",
    "    \n",
    "    def remove_node(self, noid):\n",
    "        \"\"\"Not implemented yet.\n",
    "        \n",
    "        \"\"\"\n",
    "        pass\n",
    "    \n",
    "    def update_attributes(self, noid, attributes):\n",
    "        \"\"\"Updates the attributes of the node.\n",
    "\n",
    "        Args:\n",
    "            noid (:obj:`int`): A unique node id \n",
    "            attributes (:obj:`dict`): A dictionary with new attributes.\n",
    "            \n",
    "        Returns:\n",
    "            (:obj:`bool`): Returns True.\n",
    "            \n",
    "\n",
    "        \"\"\"\n",
    "        if not noid in self.attributes.keys():\n",
    "            self.attributes[noid] = attributes\n",
    "            # It is very likely that the node is not in the network\n",
    "            self.add_isolate(noid)\n",
    "            return True\n",
    "        for attr, val in attributes.items():\n",
    "            self.attributes[noid][attr] = val\n",
    "        return True\n",
    "    \n",
    "    def get_attribute(self, noid, attr):\n",
    "        \"\"\"Retrieves the value of the specific attribute of the node.\n",
    "\n",
    "        Args:\n",
    "            noid (:obj:`int`): A unique node id \n",
    "            attr (:obj:`str`): An attribute.\n",
    "            \n",
    "        Returns:\n",
    "            (:obj:`obj`): If attribute exists.\n",
    "            None: If attributes does not exist\n",
    "            \n",
    "\n",
    "        \"\"\"\n",
    "        if not noid in self.attributes.keys(): return\n",
    "        if not attr in self.attributes[noid].keys(): return   \n",
    "        return self.attributes[noid][attr]\n",
    "    \n",
    "    def get_noid(self, query):\n",
    "        \"\"\"Retrieves the nodeid for which the attribute matches.\n",
    "\n",
    "        Args:\n",
    "            noid (:obj:`int`): A unique node id \n",
    "            query (:obj:`tuple`): An attribute and value tuple.\n",
    "            \n",
    "        Returns:\n",
    "            (:obj:`int`): The node id of the first attribute match.\n",
    "            None: If query doesn't match to any node.\n",
    "            \n",
    "        \"\"\"\n",
    "        attr,val = query\n",
    "        print('get_noid:')\n",
    "        for noid in self.attributes.keys():\n",
    "            if not attr in self.attributes[noid].keys(): continue\n",
    "            print('noid: {}, query: {}, actual: {}'.format(noid, val, self.attributes[noid][attr]))\n",
    "            if self.attributes[noid][attr] == val: return noid\n",
    "        return\n",
    "            \n",
    "    \n",
    "    def add_link(self, start, end, isbi = False):\n",
    "        \"\"\"Adds a link to the social graph.\n",
    "\n",
    "        Args:\n",
    "            start (:obj:`int`): A unique node id \n",
    "            end (:obj:`int`): A unique node id\n",
    "            isbi (:obj:`bool`): whether the link is a bidirectional (default False).\n",
    "            \n",
    "        Returns:\n",
    "            (:obj:`bool`): Returns True.\n",
    "            \n",
    "\n",
    "        \"\"\"\n",
    "        if start in self.nodes and end in self.nodes:\n",
    "            if isbi:\n",
    "                self.connections[start]['bi'].add(end)\n",
    "                self.connections[start]['in'].discard(end)\n",
    "                self.connections[start]['out'].discard(end)\n",
    "                self.connections[end]['bi'].add(start)\n",
    "                self.connections[end]['in'].discard(start)\n",
    "                self.connections[end]['out'].discard(start)\n",
    "            elif end in self.connections[start]['in']:\n",
    "                self.connections[start]['bi'].add(end)\n",
    "                self.connections[end]['bi'].add(start)\n",
    "                self.connections[start]['in'].discard(end)\n",
    "                self.connections[end]['out'].discard(start)\n",
    "            else:\n",
    "                self.connections[start]['out'].add(end)\n",
    "                self.connections[end]['in'].add(start)\n",
    "        elif start in self.nodes:\n",
    "            self.connections[start]['ext'].add(end)\n",
    "            self.notmembers.add(end)\n",
    "        elif end in self.nodes:\n",
    "            self.connections[end]['ext'].add(start)\n",
    "            self.notmembers.add(start)\n",
    "        else:\n",
    "            self.notmembers.add(start)\n",
    "            self.notmembers.add(end)\n",
    "        return True\n",
    "    \n",
    "    \n",
    "    def remove_link(self, start, end, isbi = False):\n",
    "        \"\"\"Not implemented yet.\n",
    "        \n",
    "        \"\"\"\n",
    "        pass\n",
    "    \n",
    "    def extend_net(self, profiles, media = 'Twitter'):\n",
    "        \"\"\"Given an external connection data, the method populates\n",
    "        the SocialGraph instance in a batch mode.\n",
    "        \n",
    "        Note:\n",
    "            Only a social graph from Twitter data is supported at the moment.\n",
    "\n",
    "        Args:\n",
    "            profiles (:obj:`dict`): A json like dict item where used keys are member ids\n",
    "            and each value is a :obj:`dict` whose keys in return are\n",
    "                - 'TwitterId': twitter ID\n",
    "                - 'nf' : number of friends\n",
    "                - 'nfollowers': number of followers\n",
    "                - 'flist': list of friends' twitter IDs.\n",
    "            \n",
    "        Returns:\n",
    "            (:obj:`bool`): False if node already exists, otherwise it returns True.\n",
    "            \n",
    "\n",
    "        \"\"\"\n",
    "        mids = profiles.keys()\n",
    "        for m in mids:\n",
    "            self.add_isolate(m)\n",
    "            self.update_attributes(m,\n",
    "                                   {'TwitterId': int(profiles[m]['TwitterId']),\n",
    "                                    #'nfollowers': profiles[m]['nfollowers'],\n",
    "                                    'nfriends': int(profiles[m]['nf'])\n",
    "                                   }\n",
    "                                  )\n",
    "        for from_id in mids:\n",
    "            for to_id in mids:\n",
    "                if from_id == to_id: continue\n",
    "                ifrom_id = int(profiles[from_id]['TwitterId'])\n",
    "                ito_id = int(profiles[to_id]['TwitterId'])\n",
    "                afriends = profiles[from_id]['flist']\n",
    "                bfriends = profiles[to_id]['flist']\n",
    "                ab = ito_id in afriends\n",
    "                ba = ifrom_id in bfriends\n",
    "                if ab and ba: self.add_link(from_id, to_id, isbi=True)\n",
    "                elif ab: self.add_link(from_id, to_id)\n",
    "                elif ba: self.add_link(to_id, from_id)\n",
    "                else: pass\n",
    "        media_ids = set([v['TwitterId'] for k, v in self.attributes.items()])\n",
    "        for m in mids:\n",
    "            friends = set(profiles[m]['flist'])\n",
    "            ext = friends.difference(media_ids)\n",
    "            self.connections[m]['ext'] = ext\n",
    "            self.notmembers = self.notmembers.union(ext)\n",
    "        return True \n",
    "    \n",
    "    def get_community_net(self):\n",
    "        \"\"\"Not implemented yet.\n",
    "        \n",
    "        \"\"\"\n",
    "        pass"
   ]
  },
  {
   "cell_type": "code",
   "execution_count": null,
   "metadata": {},
   "outputs": [],
   "source": [
    "SG = SocialGraph()\n",
    "print(get_attributes(SG))"
   ]
  },
  {
   "cell_type": "code",
   "execution_count": null,
   "metadata": {},
   "outputs": [],
   "source": [
    "print(SG.nodes)\n",
    "print(SG.notmembers)\n",
    "print(SG.connections)\n",
    "print(SG.attributes)"
   ]
  },
  {
   "cell_type": "code",
   "execution_count": null,
   "metadata": {
    "collapsed": true
   },
   "outputs": [],
   "source": [
    "TWITTER_PROFILES = load_social_media_profiles('./data/twitter_profile.pickle')"
   ]
  },
  {
   "cell_type": "code",
   "execution_count": null,
   "metadata": {},
   "outputs": [],
   "source": [
    "SAMPLE = get_sample(TWITTER_PROFILES, 20)"
   ]
  },
  {
   "cell_type": "code",
   "execution_count": null,
   "metadata": {},
   "outputs": [],
   "source": [
    "SG.extend_net(SAMPLE)"
   ]
  },
  {
   "cell_type": "code",
   "execution_count": null,
   "metadata": {},
   "outputs": [],
   "source": [
    "pp.pprint(SG.attributes)"
   ]
  },
  {
   "cell_type": "code",
   "execution_count": null,
   "metadata": {},
   "outputs": [],
   "source": [
    "print(len(SG.notmembers))\n",
    "print(len(SG.nodes))"
   ]
  },
  {
   "cell_type": "code",
   "execution_count": null,
   "metadata": {},
   "outputs": [],
   "source": [
    "SG.add_link('158526065','154653833')"
   ]
  },
  {
   "cell_type": "code",
   "execution_count": null,
   "metadata": {},
   "outputs": [],
   "source": [
    "for m,v in SG.connections.items():\n",
    "    print(\"ID = \", m)\n",
    "    print('Bi = ', v['bi'])\n",
    "    print('In = ', v['in'])\n",
    "    print('Out = ', v['out'])\n",
    "    print('nExt =', len(v['ext']))"
   ]
  },
  {
   "cell_type": "code",
   "execution_count": null,
   "metadata": {},
   "outputs": [],
   "source": [
    "coMat = load_skill_cooccurance()\n",
    "net = form_network_relations(coMat)\n",
    "pp.pprint(net)"
   ]
  },
  {
   "cell_type": "markdown",
   "metadata": {},
   "source": [
    "### agents.py"
   ]
  },
  {
   "cell_type": "code",
   "execution_count": null,
   "metadata": {
    "collapsed": true
   },
   "outputs": [],
   "source": [
    "# agents.py\n",
    "from six import string_types\n",
    "\n",
    "class Agent(object):\n",
    "    \"\"\"A generic agent class.\n",
    "\n",
    "    Args:\n",
    "        id (:obj:`str`)): A unique identifier for the agent.\n",
    "        state (:obj:`str`, optional): Current state of the agent.\n",
    "\n",
    "    Attributes:\n",
    "        id (:obj:`int`)): A unique identifier for the agent.\n",
    "        state (:obj:`str`, optional): Current state of the agent.\n",
    "\n",
    "    \"\"\"\n",
    "\n",
    "    def __init__(self, aid, state = 'idle', atype = 'generic'):\n",
    "        self.id = aid\n",
    "        self.state = state\n",
    "        self.type = atype\n",
    "\n",
    "    def current_state(self):\n",
    "        \"\"\"It reports the current state of the agent.\n",
    "\n",
    "        Returns:\n",
    "            (:obj:`dict`): A `dict` summarizing the state of the agent.\n",
    "\n",
    "        \"\"\"\n",
    "\n",
    "        state = {'id': self.id, 'state': self.state, 'type': self.type}\n",
    "        return state\n",
    "    \n",
    "\n",
    "\n",
    "class Maker(Agent):\n",
    "    \"\"\"A maker (:obj:`Agent`) class.\n",
    "\n",
    "        Notes:\n",
    "\n",
    "\n",
    "        Attributes:\n",
    "            name (:obj:`str`, optional): Name of the maker.\n",
    "            surname (:obj:`str`, optional): Surname of the maker.\n",
    "            twitter (:obj:`str`, optional): Twitter name of the maker.\n",
    "            omid (:obj:`int`, optional): OpenMaker platform id of the maker.\n",
    "            location (:obj:`str`, optional): The geogrpahic location of the maker.\n",
    "            entity (:obj:`str`, optional): Whether the agent is one of organization 'O' or person 'P'.\n",
    "            gender (:obj:`str`, optional): The gender is one of 'M', 'F', and 'X.\n",
    "            tags (:obj:`set` of :obj:`str`, optional): Self assigned tags of the maker.\n",
    "            skills (:obj:`set` of :obj:`str`, optional): Skills of the agent.\n",
    "            technologies(:obj:`set` of :obj:`str`, optional): Technologies used by the agent.\n",
    "            areas (:obj:`set` of :obj:`str`, optional): Interest areas in terms technologies.\n",
    "            domains (:obj:`set` of :obj:`str`, optional): Activity domains of the agent.\n",
    "\n",
    "    \"\"\"\n",
    "    name = ''\n",
    "    surname = ''\n",
    "    twitter = ''\n",
    "    entity = ''\n",
    "    location = ''\n",
    "    gender = ''\n",
    "    tags = set()\n",
    "    skills = set()\n",
    "    technologies = set()\n",
    "    areas = set()\n",
    "    domains = set()\n",
    "\n",
    "    def __init__(self, aid, expertise_model, state='idle'):\n",
    "        super().__init__(aid, state, atype = 'Maker')\n",
    "        self.modCogExp =  expertise_model\n",
    "\n",
    "    def load_profile(self, profile):\n",
    "        \"\"\"Updates or loads the profile od the agent.\n",
    "\n",
    "            Args:\n",
    "                profile (:obj:`dict`): A python dictionary where keys are attributes of\n",
    "                this class data attributes and values are the values to be loaded.\n",
    "\n",
    "            Returns:\n",
    "                (obj:`bool`): when successful.\n",
    "\n",
    "        \"\"\"\n",
    "        attrs = get_attributes(self)\n",
    "        attrs.extend(get_attributes(Maker))\n",
    "        for k,v in profile.items():\n",
    "            if k not in attrs: continue\n",
    "            if isinstance(v, string_types): v='\"'+str(v)+'\"'\n",
    "            exec(\"self.{} = {}\".format(k,v))\n",
    "\n",
    "        return True\n",
    "    \n",
    "    def skill_similarity(self, skills):\n",
    "        \"\"\"Agent's own declared skills to the given an external skill set, agent\n",
    "            measures the similarity of the given profile to her profile using the knowledge \n",
    "            the agent has about the profiles in the community as a reference.\n",
    "        \n",
    "        Note: It should be noted that the shared common skills as well as resemblance of differing\n",
    "            skillsets is added to the score.\n",
    "            \n",
    "        Args:\n",
    "            skills (:obj:`list` of :obj:`str`): The skill set of the other agent.\n",
    "            \n",
    "        Returns:\n",
    "            (:obj:`float`): A similarity score.\n",
    "            \n",
    "        \"\"\"\n",
    "        f = self.modCogExp.get_resemblance\n",
    "        # Agent uses its own version of expertise model.\n",
    "        theother = set(skills)\n",
    "        common = self.skills.intersection(theother)\n",
    "        dif_other = theother.difference(common)\n",
    "        dif_self = self.skills.difference(common)\n",
    "        lo = list(dif_other) * len(dif_self)\n",
    "        ls = np.repeat(list(dif_self), len(dif_other))\n",
    "        nc = len(common)\n",
    "        return reduce(lambda x,y: x + y if x else y, map(lambda x,y: f(x,y,source='profiles'),lo,ls), nc)\n",
    "        \n",
    "    \n",
    "    def skill_compatibility(self, skills):\n",
    "        \"\"\"Comparing agent's own declared skills to the given an external profile, agent\n",
    "            measure the compatibility of the external profile to her profile considering\n",
    "            the knowledge the agent has about the projects in the community.\n",
    "        \n",
    "        Args:\n",
    "            skills (:obj:`list` of :obj:`str`): The skill set of the other agent.\n",
    "            \n",
    "        Returns:\n",
    "            (:obj:`float`): The compatibility score.\n",
    "            \n",
    "        \"\"\"\n",
    "        f = self.modCogExp.get_compatibility\n",
    "        theother = set(skills)\n",
    "        common = self.skills.intersection(theother)\n",
    "        dif_other = theother.difference(common)\n",
    "        dif_self = self.skills.difference(common)\n",
    "        lo = list(dif_other) * len(dif_self)\n",
    "        ls = np.repeat(list(dif_self), len(dif_other))\n",
    "        return reduce(lambda x,y: x + y if x else y, map(lambda x,y: f(x,y), lo, ls), len(common)) \n",
    "            \n",
    "    \n",
    "    def skill_difference(self, skills):\n",
    "        \"\"\"Agent's compares her own declared skills to the given an external profile measuring\n",
    "            the difference of the external profile to her profile considering the knowledge the agent has\n",
    "            about the projects in the community.\n",
    "        \n",
    "        Note: In this implementation for a skill that the other has and the self doesn't, the distincness of\n",
    "            that skill in the community is used as to weight the differing value of that skill.\n",
    "        \n",
    "        Args:\n",
    "            skills (:obj:`list` of :obj:`str`): The skill set of the other agent.\n",
    "            \n",
    "        Returns:\n",
    "            (:obj:`float`): The skill difference score.\n",
    "            \n",
    "        \"\"\"\n",
    "        theother = set(skills)\n",
    "        common = self.skills.intersection(theother)\n",
    "        dif_other = theother.difference(common) \n",
    "        score = 0\n",
    "        for o in dif_other:\n",
    "            score_o = 0\n",
    "            for s in self.skills:\n",
    "                score_o += self.modCogExp.get_difference(o,s,raw=False,exclusive=False)\n",
    "            w_o = self.modCogExp.get_distinctiveness(o)\n",
    "            score += w_o * score_o\n",
    "        return score\n",
    "    \n",
    "    def social_resemblance(self, egonet):\n",
    "        \"\"\"Agent compares her social connections to the social connections of another agent. She measures her \n",
    "        structural equivalance to the other agent, both in terms of similarities as well as differences.\n",
    "        \n",
    "        Args:\n",
    "            \n",
    "        Returns:\n",
    "            \n",
    "        \"\"\"\n",
    "        pass\n",
    "    \n",
    "    def social_difference(self, egonet):\n",
    "        \"\"\"Agent compares her social connections to the social connections of another agent. She measures\n",
    "        social difference the other agent has. \n",
    "        \n",
    "        Args:\n",
    "            \n",
    "        Returns:\n",
    "            \n",
    "        \"\"\"\n",
    "        pass\n",
    "    "
   ]
  },
  {
   "cell_type": "code",
   "execution_count": null,
   "metadata": {},
   "outputs": [],
   "source": [
    "coMat = load_skill_cooccurance()\n",
    "CE = CognitiveExpertise(coMat,coMat)\n",
    "pp.pprint(coMat)"
   ]
  },
  {
   "cell_type": "code",
   "execution_count": null,
   "metadata": {
    "collapsed": true
   },
   "outputs": [],
   "source": [
    "pp.pprint(CE.mat_proj['research'])"
   ]
  },
  {
   "cell_type": "code",
   "execution_count": null,
   "metadata": {
    "collapsed": true
   },
   "outputs": [],
   "source": [
    "m = Maker(1,CE)\n",
    "MEMBER_PROFILES = load_member_profiles(fname = './data/crm_profile.pickle')\n",
    "aprofile = get_a_dict_item(MEMBER_PROFILES)\n",
    "aid = list(aprofile.keys())[0]\n",
    "profile = aprofile[aid]\n",
    "profile['id'] = aid\n",
    "pp.pprint(profile)"
   ]
  },
  {
   "cell_type": "code",
   "execution_count": null,
   "metadata": {
    "collapsed": true
   },
   "outputs": [],
   "source": [
    "profile['skills'] = profile['tags']\n",
    "m.load_profile(profile)\n",
    "m.skills"
   ]
  },
  {
   "cell_type": "code",
   "execution_count": null,
   "metadata": {
    "collapsed": true
   },
   "outputs": [],
   "source": [
    "CE.get_compatibility('3d', '3dmodel'), CE.get_compatibility('3dmodel', '3d')"
   ]
  },
  {
   "cell_type": "code",
   "execution_count": null,
   "metadata": {
    "collapsed": true
   },
   "outputs": [],
   "source": [
    "CE.get_compatibility('3d', 'audio')"
   ]
  },
  {
   "cell_type": "code",
   "execution_count": null,
   "metadata": {
    "collapsed": true
   },
   "outputs": [],
   "source": [
    "m.skill_compatibility(['3d', 'opendesign', 'solutions'])"
   ]
  },
  {
   "cell_type": "code",
   "execution_count": null,
   "metadata": {
    "collapsed": true
   },
   "outputs": [],
   "source": [
    "m.skill_similarity(['3d', 'audio', 'opendesign', 'solutions'])"
   ]
  },
  {
   "cell_type": "code",
   "execution_count": null,
   "metadata": {
    "collapsed": true
   },
   "outputs": [],
   "source": [
    "m.skill_difference(['3d',  'opendesign', 'research', 'solutions'])"
   ]
  },
  {
   "cell_type": "markdown",
   "metadata": {},
   "source": [
    "### models.py"
   ]
  },
  {
   "cell_type": "markdown",
   "metadata": {},
   "source": [
    "#### Expertise    "
   ]
  },
  {
   "cell_type": "code",
   "execution_count": null,
   "metadata": {
    "collapsed": true
   },
   "outputs": [],
   "source": [
    "class CognitiveExpertise(object):\n",
    "    \"\"\"A python object that contains methods and data models where an agent be an indivudual or \n",
    "        a community constructs and adopts its perception of expertise around his environment.\n",
    "\n",
    "    Args:\n",
    "        id (:obj:`str`)): A unique identifier for the agent.\n",
    "        state (:obj:`str`, optional): Current state of the agent.\n",
    "\n",
    "    Attributes:\n",
    "        id (:obj:`int`)): A unique identifier for the agent.\n",
    "        state (:obj:`str`, optional): Current state of the agent.\n",
    "\n",
    "    \"\"\"\n",
    "\n",
    "    def __init__(self, projects, profiles):\n",
    "        self.nproj = len(projects)\n",
    "        self.nprof = len(profiles)\n",
    "      \n",
    "        netproj = form_network_relations(projects)\n",
    "        netprof = form_network_relations(profiles)\n",
    "        \n",
    "        self.tags_proj = list(netproj.keys())\n",
    "        self.tags_prof = list(netprof.keys())\n",
    "        \n",
    "        self.tf_proj = {t:netproj[t]['f'] for t in netproj.keys()}\n",
    "        self.tf_prof = {t:netprof[t]['f'] for t in netprof.keys()}\n",
    "                \n",
    "        self.mat_proj = {t:netproj[t]['co'] for t in netproj.keys()}\n",
    "        self.mat_prof = {t:netprof[t]['co'] for t in netprof.keys()}\n",
    "    \n",
    "    \n",
    "    def _get_cooccurances(self, a, b, tags, mat):\n",
    "        \"\"\"A given two skills it returns co-occurance of them.\n",
    "\n",
    "        Args:\n",
    "            a (:obj:`str`): A skill identifier\n",
    "            b (:obj:`str`): Another skill identfier.\n",
    "            tags: (:obj:`list` of :obj:`str`): Holds the list of skills(column names),\n",
    "            mat (:obj:`dict`): A dictionary whose values are dictionary holds\n",
    "                the frequency counts.\n",
    "\n",
    "        Returns:\n",
    "            None: When either a or b is not occured.\n",
    "            (:obj:`int`): The raw co-occurance frequency.\n",
    "\n",
    "        \"\"\"\n",
    "        if a not in tags: return\n",
    "        if b not in tags: return\n",
    "        if b not in mat[a].keys(): return 0\n",
    "        \n",
    "        return mat[a][b]\n",
    "    \n",
    "    \n",
    "    def get_profile_cooccurances(self, a, b):\n",
    "        \"\"\"A given two skills it returns co-occurance of them in profiles.\n",
    "\n",
    "        Args:\n",
    "            a (:obj:`str`): A skill identifier\n",
    "            b (:obj:`str`): Another skill identfier.\n",
    "\n",
    "        Returns:\n",
    "            None: When either a or b is not occured.\n",
    "            (:obj:`int`): The raw co-occurance frequency.\n",
    "\n",
    "        \"\"\"\n",
    "        return self._get_cooccurances(a, b,\n",
    "                                      self.tags_prof,\n",
    "                                     self.mat_prof) \n",
    "    \n",
    "    \n",
    "    def get_project_cooccurances(self, a, b):\n",
    "        \"\"\"A given two skills it returns co-occurance of them in projects.\n",
    "\n",
    "        Args:\n",
    "            a (:obj:`str`): A skill identifier\n",
    "            b (:obj:`str`): Another skill identfier.\n",
    "\n",
    "        Returns:\n",
    "            None: When either a or b is not occured.\n",
    "            (:obj:`int`): The raw co-occurance frequency.\n",
    "\n",
    "        \"\"\"\n",
    "        return self._get_cooccurances(a, b,\n",
    "                                      self.tags_proj,\n",
    "                                      self.mat_proj) \n",
    "\n",
    "    \n",
    "    def compute_centralities(self, raw=True):\n",
    "        \"\"\"Computes the centralities of skillset that occurance matrix.\n",
    "        \n",
    "        Note: \n",
    "            This is a mapping of skills on a co-occurance map: the more often a skill is required\n",
    "            for the projects in a community the more central is the skill to the community.\n",
    "        Args:\n",
    "            raw (:obj:`bool`): Is used to determine whether raw count or normalized values should be returned\n",
    "            (default True).\n",
    "\n",
    "        Returns:\n",
    "            (:obj:`dict`): A dictionary holding the centrality of each skill.\n",
    "            \n",
    "        \"\"\"\n",
    "        self.centralities = dict()\n",
    "        for t in self.tags_proj:\n",
    "            self.centralities[t] = self.get_centrality(t,raw)\n",
    "        \n",
    "        return self.centralities\n",
    "    \n",
    "\n",
    "    def get_centrality(self, a, raw=True):\n",
    "        \"\"\"Returns the frequency count of a skill in co-occurance matrix formed from project requirements.\n",
    "        \n",
    "        Note: \n",
    "            As of the co-occurance map: the more often a skill is required for the projects in a community\n",
    "            the more central is the skill to the community.\n",
    "        Args:\n",
    "            a (:obj:`str`): A skill identifier\n",
    "            raw (:obj:`bool`): Is used whether raw count needs to be returned (default True).\n",
    "\n",
    "        Returns:\n",
    "            None: When no project info has found.\n",
    "            (:obj:`int`): The raw co-occurance frequency when arg raw = True.\n",
    "            (:obj:`float`): The normalized frequency count as of total project observations.\n",
    "            \n",
    "        \"\"\"\n",
    "        if a not in self.tags_proj: return 0\n",
    "        if not self.nproj: return\n",
    "        \n",
    "        fa = self.tf_proj[a]\n",
    "        if raw: return fa\n",
    "        return fa / (1.0 * self.nproj)\n",
    "\n",
    "    \n",
    "    def compute_diffusions(self, raw=True):\n",
    "        \"\"\"Computes the diffusion of skills among the community members.\n",
    "        \n",
    "        Args:\n",
    "            raw (:obj:`bool`): Is used to determine whether raw count or normalized values should be returned\n",
    "            (default True).\n",
    "\n",
    "        Returns:\n",
    "            (:obj:`dict`): A dictionary holding the diffusion score for each skill.\n",
    "            \n",
    "        \"\"\"\n",
    "        self.diffusions = dict()\n",
    "        for t in self.tags_prof:\n",
    "            self.diffusions[t] = self.get_diffusion(t,raw)\n",
    "        \n",
    "        return self.diffusions\n",
    "\n",
    "    \n",
    "    def get_diffusion(self, a, raw=True):\n",
    "        \"\"\"Returns the frequency count of a skill in co-occurance matrix formed from agent profiles.\n",
    "\n",
    "        Note: \n",
    "            As of the co-occurance map: the more often a skill is observed within a community the more\n",
    "            diffused is the skill in the community.\n",
    "            \n",
    "        Args:\n",
    "            a (:obj:`str`): A skill identifier\n",
    "            raw (:obj:`bool`): Is used to determine whether raw count needs to be returned (default True).\n",
    "\n",
    "        Returns:\n",
    "            None: When no profile info has found.\n",
    "            (:obj:`int`): The raw co-occurance frequency when the arg raw = True.\n",
    "            (:obj:`float`): The normalized frequency count as of total profiles/members in the community.\n",
    "            \n",
    "        \"\"\"\n",
    "        if a not in self.tags_prof: return 0\n",
    "        if not self.nprof: return\n",
    "        \n",
    "        fa = self.tf_prof[a]\n",
    "        if raw: return fa\n",
    "        return fa / (1.0 * self.nprof)\n",
    "\n",
    "    \n",
    "    def compute_distinctivenesses(self):\n",
    "        \"\"\"Computes the distinctiveness of skills within the community parctices.\n",
    "        \n",
    "        Returns:\n",
    "            (:obj:`dict`): A dictionary holding the distinctiveness score for each skill.\n",
    "            \n",
    "        \"\"\"\n",
    "        self.distinctivenesses = dict()\n",
    "        for t in self.tags_proj:\n",
    "            self.distinctivenesses[t] = self.get_distinctiveness(t)\n",
    "        \n",
    "        return self.distinctivenesses\n",
    "    \n",
    "    \n",
    "    def get_distinctiveness(self, a):\n",
    "        \"\"\"Returns a score to measure to what extend an important skill for the community is owned by less\n",
    "            members.\n",
    "            \n",
    "        Args:\n",
    "            a (:obj:`str`): A skill identifier\n",
    "            \n",
    "        Returns:\n",
    "            None: When no profile info has found.\n",
    "            (:obj:`int`): The raw co-occurance frequency when the arg raw = True.\n",
    "            (:obj:`float`): The normalized frequency count as of total profiles/members in the community.\n",
    "            \n",
    "        \"\"\"\n",
    "        x = self.get_diffusion(a)\n",
    "        y = self.get_centrality(a)\n",
    "        if not x: return\n",
    "        if y is None: return \n",
    "        return y / x\n",
    "\n",
    "\n",
    "    def get_union(self, a, b, source='projects'):\n",
    "        \"\"\"Returns total occurances where a or b is observed.\n",
    "        \n",
    "        Args:\n",
    "            a (:obj:`str`): A skill identifier\n",
    "            b (:obj:`str`): Another skill identfier.\n",
    "            source (:obj:`str`): Denotes the type of data source.\n",
    "                It can be either 'projects' or 'profiles' (default 'projects')\n",
    "\n",
    "        Returns:\n",
    "            None: When either a or b is not occured.\n",
    "            (:obj:`int`): The magnitude of the frquency counts where either a or b has occured.\n",
    "\n",
    "        \"\"\"\n",
    "        if source == 'profiles':\n",
    "            fa = self.tf_prof[a]\n",
    "            fb = self.tf_prof[b]\n",
    "            fab = self.get_project_cooccurances(a,b)\n",
    "        else:\n",
    "            fa = self.tf_proj[a]\n",
    "            fb = self.tf_proj[b]\n",
    "            fab = self.get_profile_cooccurances(a,b)\n",
    "        return fa + fb - fab\n",
    "\n",
    "    \n",
    "    def get_difference(self, a, b, raw=True, exclusive=True, source='projects'):\n",
    "        \"\"\"Returns the count of occurances of a without b.\n",
    "        \n",
    "        Args:\n",
    "            a (:obj:`str`): A skill identifier\n",
    "            b (:obj:`str`): Another skill identfier.\n",
    "            source (:obj:`str`): Denotes the type of data source. It can be either \n",
    "                'projects' or 'profiles' (default 'projects')\n",
    "\n",
    "        Returns:\n",
    "            None: When either a or b is not occured.\n",
    "            (:obj:`int`): The occurance frquency counts of a without b \n",
    "                when a raw count is requested.\n",
    "            (:obj:`float`): The ratio of occurance of a without b with respect to frequencies of a\n",
    "                or with resepct to cases where either frequencies of a or b has been observed.\n",
    "\n",
    "        \"\"\"\n",
    "        if source == 'projects':\n",
    "            fa = self.tf_proj[a]\n",
    "            fab = self.get_project_cooccurances(a,b)\n",
    "        else:\n",
    "            fa = self.tf_prof[a]\n",
    "            fab = self.get_profile_cooccurances(a,b)\n",
    "            \n",
    "        dif = fa - fab\n",
    "        if raw: return dif\n",
    "        if exclusive: return dif / (1.0 * fa)\n",
    "        return dif / (1.0 * self.get_union(a,b,source))\n",
    "\n",
    "    \n",
    "    def get_similarity(self, a,b, raw=True, exclusive=True, source='projects'):\n",
    "        \"\"\"Returns the count of co-occurances of a and b.\n",
    "\n",
    "        Note: When the union is used as the the reference, that is when exclusive is false,\n",
    "            sim(a,b) = sim(b,a)\n",
    "            \n",
    "        Args:\n",
    "            a (:obj:`str`): A skill identifier\n",
    "            b (:obj:`str`): Another skill identfier.\n",
    "            source (:obj:`str`): Denotes the type of data source. It can be either \n",
    "                'projects' or 'profiles' (default 'projects')\n",
    "\n",
    "        Returns:\n",
    "            None: When either a or b is not occured.\n",
    "            (:obj:`int`): The joint occurances of a and b.\n",
    "\n",
    "        \"\"\"\n",
    "        if source == 'projects':\n",
    "            fab = self.get_project_cooccurances(a,b)\n",
    "            fa = self.tf_proj[a]\n",
    "        else:\n",
    "            fab = self.get_profile_cooccurances(a,b)\n",
    "            fa = self.tf_prof[a]\n",
    "            \n",
    "        if raw: return fab\n",
    "        if exclusive: return fab / (1.0 * fa)\n",
    "        return fab / (1.0 * self.get_union(a,b,source))\n",
    "\n",
    "    \n",
    "    def get_resemblance(self, a, b, source='projects'):\n",
    "        \"\"\"Returns the resemblance of a and b in terms of both their similarities and differences.\n",
    "        \n",
    "        Args:\n",
    "            a (:obj:`str`): A skill identifier\n",
    "            b (:obj:`str`): Another skill identfier.\n",
    "            source (:obj:`str`): Denotes the type of data source. It can be either \n",
    "                'projects' or 'profiles' (default 'projects')\n",
    "\n",
    "        Returns:\n",
    "            None: When either a or b is not occured.\n",
    "            (:obj:`float`): The resemblance ratio.\n",
    "\n",
    "        \"\"\"\n",
    "        if source == 'projects':\n",
    "            fab = self.get_project_cooccurances(a,b)\n",
    "        else:\n",
    "            fab = self.get_profile_cooccurances(a,b)\n",
    "            \n",
    "        dif_ab = self.get_difference(a,b,raw=False,source=source)\n",
    "        dif_ba = self.get_difference(b,a,raw=False,source=source)\n",
    "        sim_ab = self.get_similarity(a,b,raw=False,exclusive=False,source=source)\n",
    "        return sim_ab * (1 - abs(dif_ab - dif_ba))\n",
    "\n",
    "    \n",
    "    def get_compatibility(self, a, b, source='projects'):\n",
    "        \"\"\"Returns a score to measure the compatibility of `a` to `b`, which is,\n",
    "            given all occurances of skill `b` it measures to what extend skill `a` cooccurs\n",
    "            along with skill `b`.\n",
    "\n",
    "        Note: If, for instance, skill b happens to be occuring only when skill `a` occurs\n",
    "            then the compatibility of `a` to `b` would be 1. In an asymmetric compatibility\n",
    "            (that is `a` to `b` VS  `b` to `a`) where one of the compatibilities is almost 1 or 1,\n",
    "            this may point out a  skill and sub-skill relation.\n",
    "        \n",
    "        Args:\n",
    "            a (:obj:`str`): A skill identifier\n",
    "            b (:obj:`str`): Another skill identfier.\n",
    "            source (:obj:`str`): Denotes the type of data source. It can be either \n",
    "                'projects' or 'profiles' (default 'projects')\n",
    "\n",
    "        Returns:\n",
    "            None: When either a or b is not occured.\n",
    "            (:obj:`float`): The compatibility score of skill `a` to skill `b`.\n",
    "\n",
    "        \"\"\"\n",
    "        return self.get_similarity(b, a, raw=False, exclusive=True,source=source)\n",
    "    \n",
    "  \n",
    "    def update_relevance_models(self, new_info):\n",
    "        \"\"\"Given new external project information, the module updates the data model\n",
    "            that is used to compute expertise relations for an agent or for a community.\n",
    "        \n",
    "        Args:\n",
    "            new_info is one of\n",
    "                (:obj:`list` of :obj:`str`): A list of skills that appeared on a project requirement.\n",
    "                (:obj:`list` of :obj:`list` of :obj:`str`): A list of skill co-occurances.\n",
    "\n",
    "        Returns:\n",
    "            (:obj:`bool`): Notifying the completion of learning.\n",
    "        \n",
    "        \"\"\"\n",
    "        if not new_info: return\n",
    "        if type(new_info[0]) is list: \n",
    "            new_projects = [set(s) for s in new_info]\n",
    "        else:\n",
    "            new_projects = [set(new_info)]\n",
    "        for aset in new_projects:\n",
    "            self.nproj += 1 \n",
    "            for a in aset:\n",
    "                if a not in self.tags_proj:\n",
    "                    self.tags_proj.append(a)\n",
    "                    self.tf_proj[a] = 0\n",
    "                    self.mat_proj[a] = {}\n",
    "                self.tf_proj[a] += 1\n",
    "                for b in aset:\n",
    "                    if a == b: continue\n",
    "                    if b in self.mat_proj[a].keys():\n",
    "                        self.mat_proj[a][b] += 1\n",
    "                    else:\n",
    "                        self.mat_proj[a][b] = 1\n",
    "        self.compute_centralities()\n",
    "        self.compute_distinctivenesses()\n",
    "        return True\n",
    "        \n",
    "    \n",
    "    def update_diffusion_levels(self, new_profiles):\n",
    "        \"\"\"Given new profile information, the module updates the data model\n",
    "            that is used to compute diffusion of skills in the community or\n",
    "            around the ego network of an agent.\n",
    "            \n",
    "        Note: The compuation of this behaviour and the behaviour regarding skill relations \n",
    "            update is very similar, where a computational abstraction via paramterization may be\n",
    "            considered at a final iteration. \n",
    "        \n",
    "        Args:\n",
    "            new_prfiles is one of\n",
    "                (:obj:`list` of :obj:`str`): A list of skills that appeared on a prosile.\n",
    "                (:obj:`list` of :obj:`list` of :obj:`str`): A list of skill co-occurances on profiles.\n",
    "\n",
    "        Returns:\n",
    "            (:obj:`bool`): Notifying the completion of update on the skill carriers.\n",
    "        \n",
    "        \"\"\"\n",
    "        \n",
    "        if not new_profiles: return\n",
    "        if type(new_profiles[0]) is list: \n",
    "            new_profiles = [set(s) for s in new_profiles]\n",
    "        else:\n",
    "            new_profiles = [set(new_profiles)]\n",
    "        for aset in new_profiles:\n",
    "            self.nprof += 1 \n",
    "            for a in aset:\n",
    "                if a not in self.tags_prof:\n",
    "                    self.tags_prof.append(a)\n",
    "                    self.tf_prof[a] = 0\n",
    "                    self.mat_prof[a] = {}\n",
    "                self.tf_prof[a] += 1\n",
    "                for b in aset:\n",
    "                    if a == b: continue\n",
    "                    if b in self.mat_prof[a].keys():\n",
    "                        self.mat_prof[a][b] += 1\n",
    "                    else:\n",
    "                        self.mat_prof[a][b] = 1\n",
    "        self.compute_diffusions()\n",
    "        self.compute_distinctivenesses()\n",
    "        return True\n",
    "    "
   ]
  },
  {
   "cell_type": "code",
   "execution_count": null,
   "metadata": {
    "collapsed": true
   },
   "outputs": [],
   "source": []
  },
  {
   "cell_type": "code",
   "execution_count": null,
   "metadata": {
    "collapsed": true
   },
   "outputs": [],
   "source": [
    "coMat = load_skill_cooccurance()\n",
    "CE = CognitiveExpertise(coMat,coMat)\n",
    "pp.pprint(CE.mat_proj)"
   ]
  },
  {
   "cell_type": "code",
   "execution_count": null,
   "metadata": {
    "collapsed": true
   },
   "outputs": [],
   "source": [
    "CE.nproj"
   ]
  },
  {
   "cell_type": "code",
   "execution_count": null,
   "metadata": {
    "collapsed": true
   },
   "outputs": [],
   "source": [
    "CE.tf_proj"
   ]
  },
  {
   "cell_type": "code",
   "execution_count": null,
   "metadata": {
    "collapsed": true
   },
   "outputs": [],
   "source": [
    "CE.tags_proj"
   ]
  },
  {
   "cell_type": "code",
   "execution_count": null,
   "metadata": {
    "collapsed": true
   },
   "outputs": [],
   "source": [
    "a = '3d'\n",
    "b = '3dmodel'"
   ]
  },
  {
   "cell_type": "code",
   "execution_count": null,
   "metadata": {
    "collapsed": true
   },
   "outputs": [],
   "source": [
    "CE.get_centrality(a), CE.get_centrality(b)"
   ]
  },
  {
   "cell_type": "code",
   "execution_count": null,
   "metadata": {
    "collapsed": true
   },
   "outputs": [],
   "source": [
    "CE.get_diffusion(a), CE.get_diffusion(b)"
   ]
  },
  {
   "cell_type": "code",
   "execution_count": null,
   "metadata": {
    "collapsed": true
   },
   "outputs": [],
   "source": [
    "CE.get_distinctiveness(a), CE.get_distinctiveness(b)"
   ]
  },
  {
   "cell_type": "code",
   "execution_count": null,
   "metadata": {
    "collapsed": true
   },
   "outputs": [],
   "source": [
    "CE.get_compatibility(a, b), CE.get_compatibility(b, a)"
   ]
  },
  {
   "cell_type": "code",
   "execution_count": null,
   "metadata": {
    "collapsed": true
   },
   "outputs": [],
   "source": [
    "CE.get_similarity(a,b,raw=False,exclusive=False), CE.get_similarity(b, a, raw=False,exclusive=False)"
   ]
  },
  {
   "cell_type": "code",
   "execution_count": null,
   "metadata": {
    "collapsed": true
   },
   "outputs": [],
   "source": [
    "CE.get_similarity(a,b,raw=False,exclusive=True), CE.get_similarity(b,a,raw=False,exclusive=True)"
   ]
  },
  {
   "cell_type": "code",
   "execution_count": null,
   "metadata": {
    "collapsed": true
   },
   "outputs": [],
   "source": [
    "CE.get_difference(a,b,raw=False,exclusive=True), CE.get_difference(b,a,raw=False,exclusive=True)"
   ]
  },
  {
   "cell_type": "code",
   "execution_count": null,
   "metadata": {
    "collapsed": true
   },
   "outputs": [],
   "source": [
    "CE.get_difference(a,b,raw=False,exclusive=False), CE.get_difference(b,a,raw=False,exclusive=False)"
   ]
  },
  {
   "cell_type": "code",
   "execution_count": null,
   "metadata": {
    "collapsed": true
   },
   "outputs": [],
   "source": [
    "CE.get_resemblance(a, b)"
   ]
  },
  {
   "cell_type": "code",
   "execution_count": null,
   "metadata": {
    "collapsed": true
   },
   "outputs": [],
   "source": [
    "c = '4d'\n",
    "newprojs = [[b, a], [c, a]]\n",
    "CE.update_relevance_models(newprojs)"
   ]
  },
  {
   "cell_type": "code",
   "execution_count": null,
   "metadata": {
    "collapsed": true
   },
   "outputs": [],
   "source": [
    "print(CE.get_centrality(a), CE.get_centrality(b))\n",
    "CE.get_similarity(a,b,raw=False,exclusive=True), CE.get_similarity(b,a,raw=False,exclusive=True)"
   ]
  },
  {
   "cell_type": "code",
   "execution_count": null,
   "metadata": {
    "collapsed": true
   },
   "outputs": [],
   "source": [
    "CE.get_compatibility(c, a), CE.get_compatibility(c, b)"
   ]
  },
  {
   "cell_type": "code",
   "execution_count": null,
   "metadata": {
    "collapsed": true
   },
   "outputs": [],
   "source": [
    "CE.get_centrality(a), CE.get_centrality(b), CE.get_centrality(c)"
   ]
  },
  {
   "cell_type": "code",
   "execution_count": null,
   "metadata": {
    "collapsed": true
   },
   "outputs": [],
   "source": [
    "CE.get_distinctiveness(a), CE.get_distinctiveness(b), CE.get_distinctiveness(c)"
   ]
  },
  {
   "cell_type": "code",
   "execution_count": null,
   "metadata": {
    "collapsed": true
   },
   "outputs": [],
   "source": [
    "newprofile = [a,b,c]\n",
    "CE.update_diffusion_levels(newprofile)"
   ]
  },
  {
   "cell_type": "code",
   "execution_count": null,
   "metadata": {
    "collapsed": true
   },
   "outputs": [],
   "source": [
    "CE.get_distinctiveness(a), CE.get_distinctiveness(b), CE.get_distinctiveness(c)"
   ]
  },
  {
   "cell_type": "markdown",
   "metadata": {},
   "source": [
    "### interfaces.py"
   ]
  },
  {
   "cell_type": "code",
   "execution_count": null,
   "metadata": {
    "collapsed": true
   },
   "outputs": [],
   "source": [
    "abs(2 - 3)"
   ]
  },
  {
   "cell_type": "markdown",
   "metadata": {},
   "source": [
    "# Tests"
   ]
  },
  {
   "cell_type": "code",
   "execution_count": null,
   "metadata": {
    "collapsed": true
   },
   "outputs": [],
   "source": [
    "m = Maker(1)\n",
    "m.load_profile({'name': 'bulent'})"
   ]
  },
  {
   "cell_type": "code",
   "execution_count": null,
   "metadata": {
    "collapsed": true
   },
   "outputs": [],
   "source": [
    "m.load_profile({'name': 'bulent'})"
   ]
  },
  {
   "cell_type": "code",
   "execution_count": null,
   "metadata": {
    "collapsed": true
   },
   "outputs": [],
   "source": [
    "m.name"
   ]
  },
  {
   "cell_type": "code",
   "execution_count": null,
   "metadata": {
    "collapsed": true
   },
   "outputs": [],
   "source": [
    "MEMBER_PROFILES = load_member_profiles(fname = './data/crm_profile.pickle')"
   ]
  },
  {
   "cell_type": "code",
   "execution_count": null,
   "metadata": {
    "collapsed": true
   },
   "outputs": [],
   "source": [
    "m = Maker(1)\n",
    "m.load_profile({'name': 'bulent'})\n",
    "m.name\n",
    "MEMBER_PROFILES = load_member_profiles(fname = './data/crm_profile.pickle')\n",
    "aprofile = get_a_dict_item(MEMBER_PROFILES)\n",
    "aid = list(aprofile.keys())[0]\n",
    "profile = aprofile[aid]\n",
    "profile['id'] = aid\n",
    "pp.pprint(profile)"
   ]
  },
  {
   "cell_type": "code",
   "execution_count": null,
   "metadata": {
    "collapsed": true
   },
   "outputs": [],
   "source": []
  },
  {
   "cell_type": "code",
   "execution_count": null,
   "metadata": {
    "collapsed": true
   },
   "outputs": [],
   "source": [
    "m.load_profile(profile)"
   ]
  },
  {
   "cell_type": "code",
   "execution_count": null,
   "metadata": {
    "collapsed": true
   },
   "outputs": [],
   "source": [
    "type(MEMBER_PROFILES)"
   ]
  },
  {
   "cell_type": "code",
   "execution_count": null,
   "metadata": {
    "collapsed": true
   },
   "outputs": [],
   "source": [
    "print(m.gender)"
   ]
  },
  {
   "cell_type": "code",
   "execution_count": null,
   "metadata": {
    "collapsed": true
   },
   "outputs": [],
   "source": []
  }
 ],
 "metadata": {
  "kernelspec": {
   "display_name": "Python 3",
   "language": "python",
   "name": "python3"
  },
  "language_info": {
   "codemirror_mode": {
    "name": "ipython",
    "version": 3
   },
   "file_extension": ".py",
   "mimetype": "text/x-python",
   "name": "python",
   "nbconvert_exporter": "python",
   "pygments_lexer": "ipython3",
   "version": "3.6.0"
  }
 },
 "nbformat": 4,
 "nbformat_minor": 1
}
